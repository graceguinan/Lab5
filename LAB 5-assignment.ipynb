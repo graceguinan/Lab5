{
 "cells": [
  {
   "cell_type": "code",
   "execution_count": 30,
   "id": "793db4e9",
   "metadata": {},
   "outputs": [],
   "source": [
    "import requests\n",
    "from bs4 import BeautifulSoup\n",
    "import pandas as pd\n",
    "from pymongo import MongoClient\n",
    "import json"
   ]
  },
  {
   "cell_type": "code",
   "execution_count": 13,
   "id": "e7739487",
   "metadata": {},
   "outputs": [
    {
     "name": "stdout",
     "output_type": "stream",
     "text": [
      "Please imput a zip code.\n",
      "99109\n"
     ]
    }
   ],
   "source": [
    "# User Imput\n",
    "\n",
    "print(\"Please imput a zip code.\")\n",
    "zip = input()\n",
    "zzip = int(zip)"
   ]
  },
  {
   "cell_type": "code",
   "execution_count": 14,
   "id": "5b7c6b5f",
   "metadata": {},
   "outputs": [],
   "source": [
    "# Getting Lat/Long from github data source\n",
    "\n",
    "url = \"https://gist.githubusercontent.com/erichurst/7882666/raw/5bdc46db47d9515269ab12ed6fb2850377fd869e/US%2520Zip%2520Codes%2520from%25202013%2520Government%2520Data\"\n",
    "\n",
    "df = pd.read_csv(url)\n",
    "data = df[df['ZIP']== zzip]\n",
    "\n",
    "# if dataframe empty, stop the program here.\n",
    "\n",
    "latitude = data['LAT'].values[0]\n",
    "lng = data['LNG'].values[0]"
   ]
  },
  {
   "cell_type": "code",
   "execution_count": 15,
   "id": "2cc67195",
   "metadata": {},
   "outputs": [
    {
     "name": "stdout",
     "output_type": "stream",
     "text": [
      "https://forecast.weather.gov/MapClick.php?lat=48.292946&lon=-117.698546\n"
     ]
    }
   ],
   "source": [
    "# Getting URL from Lat/Long\n",
    "\n",
    "str = \"lat={lat}&lon={lon}\".format(lat = latitude, lon = lng)\n",
    "url2 = \"https://forecast.weather.gov/MapClick.php?{location}\".format(location = str)\n",
    "print(url2)"
   ]
  },
  {
   "cell_type": "code",
   "execution_count": 16,
   "id": "4aaaf95d",
   "metadata": {},
   "outputs": [],
   "source": [
    "#Getting Data for 7 day table\n",
    "\n",
    "page = requests.get(url2)\n",
    "soup = BeautifulSoup(page.content, 'html.parser')\n",
    "seven_day = soup.find(id=\"seven-day-forecast\")\n",
    "\n",
    "period_tags = seven_day.select(\".tombstone-container .period-name\")\n",
    "periods = [pt.get_text() for pt in period_tags]\n",
    "short_descs = [sd.get_text() for sd in seven_day.select(\".tombstone-container .short-desc\")]\n",
    "temps = [t.get_text() for t in seven_day.select(\".tombstone-container .temp\")]\n",
    "descs = [d[\"title\"] for d in seven_day.select(\".tombstone-container img\")]\n"
   ]
  },
  {
   "cell_type": "code",
   "execution_count": 17,
   "id": "d6b68a8d",
   "metadata": {},
   "outputs": [],
   "source": [
    "# Getting name of location\n",
    "\n",
    "current_conditions = soup.find(id=\"current-conditions\")\n",
    "local = current_conditions.select(\".panel-heading .panel-title\")\n",
    "city = [pt.get_text() for pt in local]\n",
    "cityname = city[0]"
   ]
  },
  {
   "cell_type": "code",
   "execution_count": 18,
   "id": "fc0c9da3",
   "metadata": {},
   "outputs": [
    {
     "name": "stdout",
     "output_type": "stream",
     "text": [
      "7 day forcast for PAL MOORE ORCHARD (PMFW1)\n"
     ]
    },
    {
     "data": {
      "text/html": [
       "<div>\n",
       "<style scoped>\n",
       "    .dataframe tbody tr th:only-of-type {\n",
       "        vertical-align: middle;\n",
       "    }\n",
       "\n",
       "    .dataframe tbody tr th {\n",
       "        vertical-align: top;\n",
       "    }\n",
       "\n",
       "    .dataframe thead th {\n",
       "        text-align: right;\n",
       "    }\n",
       "</style>\n",
       "<table border=\"1\" class=\"dataframe\">\n",
       "  <thead>\n",
       "    <tr style=\"text-align: right;\">\n",
       "      <th></th>\n",
       "      <th>period</th>\n",
       "      <th>short_desc</th>\n",
       "      <th>temp</th>\n",
       "      <th>desc</th>\n",
       "    </tr>\n",
       "  </thead>\n",
       "  <tbody>\n",
       "    <tr>\n",
       "      <th>0</th>\n",
       "      <td>Today</td>\n",
       "      <td>Chance Snow</td>\n",
       "      <td>High: 19 °F</td>\n",
       "      <td>Today: A 30 percent chance of snow.  Mostly cl...</td>\n",
       "    </tr>\n",
       "    <tr>\n",
       "      <th>1</th>\n",
       "      <td>Tonight</td>\n",
       "      <td>Heavy Snow</td>\n",
       "      <td>Low: 16 °F</td>\n",
       "      <td>Tonight: Snow, mainly after 10pm. The snow cou...</td>\n",
       "    </tr>\n",
       "    <tr>\n",
       "      <th>2</th>\n",
       "      <td>Wednesday</td>\n",
       "      <td>Heavy Snow</td>\n",
       "      <td>High: 29 °F</td>\n",
       "      <td>Wednesday: Snow. The snow could be heavy at ti...</td>\n",
       "    </tr>\n",
       "    <tr>\n",
       "      <th>3</th>\n",
       "      <td>WednesdayNight</td>\n",
       "      <td>Snow andPatchy Fog</td>\n",
       "      <td>Low: 20 °F</td>\n",
       "      <td>Wednesday Night: Snow.  Patchy fog before 2am,...</td>\n",
       "    </tr>\n",
       "    <tr>\n",
       "      <th>4</th>\n",
       "      <td>Thursday</td>\n",
       "      <td>Chance Snow</td>\n",
       "      <td>High: 30 °F</td>\n",
       "      <td>Thursday: A 40 percent chance of snow.  Cloudy...</td>\n",
       "    </tr>\n",
       "    <tr>\n",
       "      <th>5</th>\n",
       "      <td>ThursdayNight</td>\n",
       "      <td>Slight ChanceSnow</td>\n",
       "      <td>Low: 10 °F</td>\n",
       "      <td>Thursday Night: A 20 percent chance of snow.  ...</td>\n",
       "    </tr>\n",
       "    <tr>\n",
       "      <th>6</th>\n",
       "      <td>Friday</td>\n",
       "      <td>Slight ChanceSnow</td>\n",
       "      <td>High: 22 °F</td>\n",
       "      <td>Friday: A 20 percent chance of snow.  Mostly c...</td>\n",
       "    </tr>\n",
       "    <tr>\n",
       "      <th>7</th>\n",
       "      <td>FridayNight</td>\n",
       "      <td>Chance Snow</td>\n",
       "      <td>Low: 14 °F</td>\n",
       "      <td>Friday Night: A 40 percent chance of snow.  Cl...</td>\n",
       "    </tr>\n",
       "    <tr>\n",
       "      <th>8</th>\n",
       "      <td>Saturday</td>\n",
       "      <td>Chance Snow</td>\n",
       "      <td>High: 26 °F</td>\n",
       "      <td>Saturday: A 30 percent chance of snow, mainly ...</td>\n",
       "    </tr>\n",
       "  </tbody>\n",
       "</table>\n",
       "</div>"
      ],
      "text/plain": [
       "           period          short_desc         temp  \\\n",
       "0           Today         Chance Snow  High: 19 °F   \n",
       "1         Tonight          Heavy Snow   Low: 16 °F   \n",
       "2       Wednesday          Heavy Snow  High: 29 °F   \n",
       "3  WednesdayNight  Snow andPatchy Fog   Low: 20 °F   \n",
       "4        Thursday         Chance Snow  High: 30 °F   \n",
       "5   ThursdayNight   Slight ChanceSnow   Low: 10 °F   \n",
       "6          Friday   Slight ChanceSnow  High: 22 °F   \n",
       "7     FridayNight         Chance Snow   Low: 14 °F   \n",
       "8        Saturday         Chance Snow  High: 26 °F   \n",
       "\n",
       "                                                desc  \n",
       "0  Today: A 30 percent chance of snow.  Mostly cl...  \n",
       "1  Tonight: Snow, mainly after 10pm. The snow cou...  \n",
       "2  Wednesday: Snow. The snow could be heavy at ti...  \n",
       "3  Wednesday Night: Snow.  Patchy fog before 2am,...  \n",
       "4  Thursday: A 40 percent chance of snow.  Cloudy...  \n",
       "5  Thursday Night: A 20 percent chance of snow.  ...  \n",
       "6  Friday: A 20 percent chance of snow.  Mostly c...  \n",
       "7  Friday Night: A 40 percent chance of snow.  Cl...  \n",
       "8  Saturday: A 30 percent chance of snow, mainly ...  "
      ]
     },
     "execution_count": 18,
     "metadata": {},
     "output_type": "execute_result"
    }
   ],
   "source": [
    "# 7 day weather forcast\n",
    "\n",
    "print(\"7 day forcast for\", cityname)\n",
    "weather = pd.DataFrame({\n",
    " \"period\": periods,\n",
    " \"short_desc\": short_descs,\n",
    " \"temp\": temps,\n",
    " \"desc\":descs\n",
    "})\n",
    "weather"
   ]
  },
  {
   "cell_type": "code",
   "execution_count": 26,
   "id": "0aa39ddd",
   "metadata": {},
   "outputs": [
    {
     "name": "stdout",
     "output_type": "stream",
     "text": [
      "Current Weather in PAL MOORE ORCHARD (PMFW1)\n"
     ]
    },
    {
     "data": {
      "text/html": [
       "<div>\n",
       "<style scoped>\n",
       "    .dataframe tbody tr th:only-of-type {\n",
       "        vertical-align: middle;\n",
       "    }\n",
       "\n",
       "    .dataframe tbody tr th {\n",
       "        vertical-align: top;\n",
       "    }\n",
       "\n",
       "    .dataframe thead th {\n",
       "        text-align: right;\n",
       "    }\n",
       "</style>\n",
       "<table border=\"1\" class=\"dataframe\">\n",
       "  <thead>\n",
       "    <tr style=\"text-align: right;\">\n",
       "      <th></th>\n",
       "      <th>Humidity</th>\n",
       "      <th>Wind Speed</th>\n",
       "      <th>Dewpoint</th>\n",
       "      <th>Updated at</th>\n",
       "    </tr>\n",
       "  </thead>\n",
       "  <tbody>\n",
       "    <tr>\n",
       "      <th>0</th>\n",
       "      <td>88%</td>\n",
       "      <td>NA 0 MPH</td>\n",
       "      <td>12°F (-11°C)</td>\n",
       "      <td>29 Nov 08:55 AM PST</td>\n",
       "    </tr>\n",
       "  </tbody>\n",
       "</table>\n",
       "</div>"
      ],
      "text/plain": [
       "  Humidity Wind Speed      Dewpoint           Updated at\n",
       "0      88%   NA 0 MPH  12°F (-11°C)  29 Nov 08:55 AM PST"
      ]
     },
     "execution_count": 26,
     "metadata": {},
     "output_type": "execute_result"
    }
   ],
   "source": [
    "# Current Weather\n",
    "\n",
    "table = current_conditions.select(\"table\")\n",
    "rows = soup.find_all('td')\n",
    "rnames = [td.get_text() for td in rows]\n",
    "print(\"Current Weather in\", cityname)\n",
    "\n",
    "time = rnames[11]\n",
    "time2 = time.strip()\n",
    "\n",
    "h = rnames[1]\n",
    "w = rnames[3]\n",
    "d = rnames[7]\n",
    "\n",
    "\n",
    "\n",
    "current = pd.DataFrame({\n",
    "    \"Humidity\": h,\n",
    "    \"Wind Speed\": w,\n",
    "    \"Dewpoint\": d,\n",
    "    \"Updated at\": time2\n",
    "    \n",
    "}, index = [0])\n",
    "\n",
    "current"
   ]
  },
  {
   "cell_type": "code",
   "execution_count": 46,
   "id": "374161e3",
   "metadata": {},
   "outputs": [
    {
     "data": {
      "text/plain": [
       "[{'Humidity': '88%',\n",
       "  'Wind Speed': 'NA 0 MPH',\n",
       "  'Dewpoint': '12°F (-11°C)',\n",
       "  'Updated at': '29 Nov 08:55 AM PST'}]"
      ]
     },
     "execution_count": 46,
     "metadata": {},
     "output_type": "execute_result"
    }
   ],
   "source": [
    "# Inserting into Mongo\n",
    "# pip install pymongo\n",
    "\n",
    "\n",
    "\n",
    "\n",
    "cluster = MongoClient(\"mongodb+srv://cluster0.fc5vawu.mongodb.net/?authSource=%24external&authMechanism=MONGODB-X509&retryWrites=true&w=majority\")\n",
    "db = cluster[\"lab5\"]\n",
    "collection1 = db[\"7dayforecast\"]\n",
    "collection2 = db[\"currentconditions\"]\n",
    "\n",
    "\n",
    "sevenday = weather.to_dict(\"records\")\n",
    "cc = current.to_dict(\"records\")\n",
    "\n",
    "#collection1.insert_many(sevenday)\n"
   ]
  },
  {
   "cell_type": "code",
   "execution_count": null,
   "id": "05e746b1",
   "metadata": {},
   "outputs": [],
   "source": []
  }
 ],
 "metadata": {
  "kernelspec": {
   "display_name": "Python 3 (ipykernel)",
   "language": "python",
   "name": "python3"
  },
  "language_info": {
   "codemirror_mode": {
    "name": "ipython",
    "version": 3
   },
   "file_extension": ".py",
   "mimetype": "text/x-python",
   "name": "python",
   "nbconvert_exporter": "python",
   "pygments_lexer": "ipython3",
   "version": "3.9.13"
  }
 },
 "nbformat": 4,
 "nbformat_minor": 5
}
